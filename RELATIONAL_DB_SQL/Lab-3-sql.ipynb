{
 "cells": [
  {
   "cell_type": "markdown",
   "metadata": {},
   "source": [
    "# Introduction to SQL\n",
    "Assigned: Thursday, February 20, 2020\n",
    "*Due 5 PM, Thursday, February 20, 2020*\n",
    "\n",
    "Our goal today is to begin learning SQL (for Structured Query Language). We'll make our web services API from last week persistent. To do this, we'll use Sqlite for the relational database.\n",
    "\n",
    "I chose Sqlite for this exercise because it's ubiquitous. Sqlite is the world's [\"Most Widely Deployed and Used Database Engine\"](https://sqlite.org/mostdeployed.html). It's already on your development computer. So we can avoid installation complications and get going immediately.\n",
    "\n",
    "Sqlite is really a *library* that allows any application to be extended with database functionality. It's mostly used as a backend data storage layer for applications.\n",
    "\n",
    "Although Sqlite is extremely powerful it isn't appropriate for all applications, specifically those with massive datasets and many concurrent writers. For such applications *client-server* databases such as PostGres or MySQL are a better fit.\n",
    "\n",
    "This lab is organized into two sections. The first part is a tutorial. It shows with examples how to install sqlite, connect to a database, create tables, run queries, and update the database. In the second part, the problem set, you will use the concepts from the tutorial to add a database layer to the web services API.\n",
    "\n",
    "## Setup and Installation\n",
    "\n",
    "To check whether sqlite3 is already installed on your system, run the magic shell command below:\n",
    "\n"
   ]
  },
  {
   "cell_type": "code",
   "execution_count": 1,
   "metadata": {
    "inputHidden": false,
    "jupyter": {
     "outputs_hidden": false
    },
    "outputHidden": false
   },
   "outputs": [
    {
     "name": "stdout",
     "output_type": "stream",
     "text": [
      "/anaconda3/envs/ipk3/bin/sqlite3\r\n"
     ]
    },
    {
     "data": {
      "text/plain": [
       "'\\n#for windows\\ntry:\\n    !where sqlite3\\nexcept:\\n    pass'"
      ]
     },
     "execution_count": 1,
     "metadata": {},
     "output_type": "execute_result"
    }
   ],
   "source": [
    "# determine if sqlite3 is installed\n",
    "! which sqlite3\n",
    "'''\n",
    "#for windows\n",
    "try:\n",
    "    !where sqlite3\n",
    "except:\n",
    "    pass'''"
   ]
  },
  {
   "cell_type": "markdown",
   "metadata": {
    "inputHidden": false,
    "outputHidden": false
   },
   "source": [
    "The above command will print the location of the `sqlite3` executable. If you see some output, you're good to go. If not, follow the instructions [here](https://www.sqlite.org/download.html).\n",
    "\n",
    "We'll use the [SQLAlchemy](https://www.sqlalchemy.org) library to access Sqlite (and other databases) from Python. SQLAlchemy is an abstraction and adaptation layer that runs above most relational databases. (A Sqlite-specific library for Python also exists but it does not support any other database; SQLAlchemy works with most popular SQL databases.)\n",
    "\n",
    "SQLAlchemy provides two main ways to access databases: **core** and **ORM** (for Object Relational Mapping). We'll use the Core interface in this lab. With the Core interface, you write queries in *raw* SQL. The ORM interface is a higher-level abstraction. We'll explore the ORM interface next week.\n",
    "\n",
    "You can install SQLAlchemy with the following commands:"
   ]
  },
  {
   "cell_type": "code",
   "execution_count": 2,
   "metadata": {
    "inputHidden": false,
    "jupyter": {
     "outputs_hidden": false
    },
    "outputHidden": false
   },
   "outputs": [
    {
     "name": "stdout",
     "output_type": "stream",
     "text": [
      "Collecting package metadata (current_repodata.json): done\n",
      "Solving environment: / ^C\n",
      "- "
     ]
    }
   ],
   "source": [
    "# install sqlalchemy with conda\n",
    "import sys\n",
    "\n",
    "!conda install --yes --prefix {sys.prefix} sqlalchemy"
   ]
  },
  {
   "cell_type": "markdown",
   "metadata": {
    "inputHidden": false,
    "outputHidden": false
   },
   "source": [
    "## Connect to a Sqlite Database\n",
    "\n",
    "With SQLAlchemy installed, you can connect to a database with the `create_engine` function. An `engine` is the central entry point for communicating with a specific database.\n",
    "\n",
    "The first argument to `create_engine` specifies the kind of database to open. Here we'll open an *in-memory* sqlite database. The database won't be stored to disk. Instead it will disappear everytime the calling process (i.e., this Jupyter notebook) exits. A non-persistent database can be useful while learning: you get a blank database everytime you run the application.\n",
    "\n",
    "The second argument `echo=True` tells SQLAlchemy to verbosely print to the console all the SQL statements it generates.\n",
    "\n",
    "For more about the `create_engine` function see [here](https://docs.sqlalchemy.org/en/latest/core/engines.html#sqlite)."
   ]
  },
  {
   "cell_type": "code",
   "execution_count": 3,
   "metadata": {},
   "outputs": [],
   "source": [
    "import sqlalchemy\n",
    "from sqlalchemy import create_engine\n",
    "from sqlalchemy import inspect\n",
    "\n"
   ]
  },
  {
   "cell_type": "code",
   "execution_count": 4,
   "metadata": {
    "inputHidden": false,
    "jupyter": {
     "outputs_hidden": false
    },
    "outputHidden": false
   },
   "outputs": [
    {
     "name": "stdout",
     "output_type": "stream",
     "text": [
      "1.3.13\n",
      "Engine(sqlite:///:memory:)\n"
     ]
    }
   ],
   "source": [
    "# Type of database to connect to. The following specifies an in-memory sqlite.\n",
    "db_name = 'sqlite:///:memory:'\n",
    "\n",
    "# use a URL like the following to open (and create if necessary)\n",
    "# a file-backed sqlite database:\n",
    "\n",
    "# db_name = 'sqlite:///my_sqlite_db.sqlite3'\n",
    "# the above will create a database relative to current working directory. See\n",
    "# the documentation for how to create a database in a different location.\n",
    "\n",
    "\n",
    "# create an engine\n",
    "engine = create_engine(db_name, echo=True)\n",
    "print(sqlalchemy.__version__)\n",
    "print(engine)"
   ]
  },
  {
   "cell_type": "markdown",
   "metadata": {
    "inputHidden": false,
    "outputHidden": false
   },
   "source": [
    "## Create Your First Table\n",
    "\n",
    "At this point you'll have an empty database created in memory (not persistent storage). To do anything useful with a relational database, you have to first create a table (or tables) and insert some rows into those tables.\n",
    "\n",
    "Creating a table defines the names and types of the attributes (columns) of the database.\n",
    "\n",
    "We'll create a simple table called `cities`. It will have the following columns:\n",
    "\n",
    "```json\n",
    "{\n",
    "    \"id\": 'the primary key for the table',\n",
    "    \"name\": 'the city name, a text string',\n",
    "    \"lat\": 'latitude, a floating point number',\n",
    "    \"lng\": 'longitude, a floating point number',\n",
    "    \"country\": 'country, a text string',\n",
    "    \"population\": 'city population, an integer'\n",
    "}\n",
    "```\n",
    "\n",
    "To create the `cities` table, use the `create table` SQL statement as shown below. The `engine.execute()` method is used to send the raw SQL to the connected database.\n",
    "\n",
    "\n"
   ]
  },
  {
   "cell_type": "code",
   "execution_count": 5,
   "metadata": {
    "inputHidden": false,
    "jupyter": {
     "outputs_hidden": false
    },
    "outputHidden": false
   },
   "outputs": [
    {
     "name": "stdout",
     "output_type": "stream",
     "text": [
      "2020-02-27 09:45:12,507 INFO sqlalchemy.engine.base.Engine SELECT CAST('test plain returns' AS VARCHAR(60)) AS anon_1\n",
      "2020-02-27 09:45:12,513 INFO sqlalchemy.engine.base.Engine ()\n",
      "2020-02-27 09:45:12,529 INFO sqlalchemy.engine.base.Engine SELECT CAST('test unicode returns' AS VARCHAR(60)) AS anon_1\n",
      "2020-02-27 09:45:12,537 INFO sqlalchemy.engine.base.Engine ()\n",
      "2020-02-27 09:45:12,550 INFO sqlalchemy.engine.base.Engine drop table if exists cities\n",
      "2020-02-27 09:45:12,559 INFO sqlalchemy.engine.base.Engine ()\n",
      "2020-02-27 09:45:12,566 INFO sqlalchemy.engine.base.Engine COMMIT\n",
      "2020-02-27 09:45:12,573 INFO sqlalchemy.engine.base.Engine create table cities(\n",
      "  id integer primary key,\n",
      "  name text not null,\n",
      "  lat float not null,\n",
      "  lng float not null,\n",
      "  state text not null,\n",
      "  country text not null,\n",
      "  population integer not null\n",
      ");\n",
      "\n",
      "2020-02-27 09:45:12,579 INFO sqlalchemy.engine.base.Engine ()\n",
      "2020-02-27 09:45:12,588 INFO sqlalchemy.engine.base.Engine COMMIT\n"
     ]
    },
    {
     "data": {
      "text/plain": [
       "<sqlalchemy.engine.result.ResultProxy at 0x10b7cf460>"
      ]
     },
     "execution_count": 5,
     "metadata": {},
     "output_type": "execute_result"
    }
   ],
   "source": [
    "# drop a table cities in case it existed already\n",
    "drop_table_statement = \"\"\"drop table if exists cities\"\"\"\n",
    "engine.execute(drop_table_statement)\n",
    "\n",
    "# sql statement\n",
    "create_table_stmt = \"\"\"create table cities(\n",
    "  id integer primary key,\n",
    "  name text not null,\n",
    "  lat float not null,\n",
    "  lng float not null,\n",
    "  state text not null,\n",
    "  country text not null,\n",
    "  population integer not null\n",
    ");\n",
    "\"\"\"\n",
    "engine.execute(create_table_stmt)"
   ]
  },
  {
   "cell_type": "markdown",
   "metadata": {
    "inputHidden": false,
    "outputHidden": false
   },
   "source": [
    "You now have an empty database created in memory (not persistent storage). The following code block shows how to retrieve information about the `users` table you just created:"
   ]
  },
  {
   "cell_type": "code",
   "execution_count": 6,
   "metadata": {},
   "outputs": [
    {
     "name": "stdout",
     "output_type": "stream",
     "text": [
      "2020-02-27 09:45:14,936 INFO sqlalchemy.engine.base.Engine SELECT name FROM sqlite_master WHERE type='table' ORDER BY name\n",
      "2020-02-27 09:45:14,942 INFO sqlalchemy.engine.base.Engine ()\n"
     ]
    },
    {
     "data": {
      "text/plain": [
       "['cities']"
      ]
     },
     "execution_count": 6,
     "metadata": {},
     "output_type": "execute_result"
    }
   ],
   "source": [
    "engine.table_names()"
   ]
  },
  {
   "cell_type": "code",
   "execution_count": 7,
   "metadata": {
    "inputHidden": false,
    "jupyter": {
     "outputs_hidden": false
    },
    "outputHidden": false
   },
   "outputs": [
    {
     "name": "stdout",
     "output_type": "stream",
     "text": [
      "2020-02-27 09:45:16,380 INFO sqlalchemy.engine.base.Engine SELECT name FROM sqlite_master WHERE type='table' ORDER BY name\n",
      "2020-02-27 09:45:16,390 INFO sqlalchemy.engine.base.Engine ()\n",
      "['cities']\n",
      "2020-02-27 09:45:16,396 INFO sqlalchemy.engine.base.Engine PRAGMA main.table_info(\"cities\")\n",
      "2020-02-27 09:45:16,400 INFO sqlalchemy.engine.base.Engine ()\n",
      "{'name': 'id', 'type': INTEGER(), 'nullable': True, 'default': None, 'autoincrement': 'auto', 'primary_key': 1}\n",
      "{'name': 'name', 'type': TEXT(), 'nullable': False, 'default': None, 'autoincrement': 'auto', 'primary_key': 0}\n",
      "{'name': 'lat', 'type': FLOAT(), 'nullable': False, 'default': None, 'autoincrement': 'auto', 'primary_key': 0}\n",
      "{'name': 'lng', 'type': FLOAT(), 'nullable': False, 'default': None, 'autoincrement': 'auto', 'primary_key': 0}\n",
      "{'name': 'state', 'type': TEXT(), 'nullable': False, 'default': None, 'autoincrement': 'auto', 'primary_key': 0}\n",
      "{'name': 'country', 'type': TEXT(), 'nullable': False, 'default': None, 'autoincrement': 'auto', 'primary_key': 0}\n",
      "{'name': 'population', 'type': INTEGER(), 'nullable': False, 'default': None, 'autoincrement': 'auto', 'primary_key': 0}\n"
     ]
    }
   ],
   "source": [
    "# inspect the database\n",
    "inspector = inspect(engine)\n",
    "\n",
    "# Get table information\n",
    "print(inspector.get_table_names())\n",
    "\n",
    "# Get column information\n",
    "for col in inspector.get_columns('cities'):\n",
    "    print(col)\n"
   ]
  },
  {
   "cell_type": "markdown",
   "metadata": {
    "inputHidden": false,
    "outputHidden": false
   },
   "source": [
    "## Insert City Data Into the Database\n",
    "\n",
    "Next, we will use a SQL `insert` statement to add some cities to the database. (The data for this example came from [SimpleMaps](https://simplemaps.com/data/us-cities).)\n",
    "\n",
    "Note the use of `?` placeholders in the `insert` statement. These are positional parameters that are filled in with actual values at runtime."
   ]
  },
  {
   "cell_type": "code",
   "execution_count": 8,
   "metadata": {
    "inputHidden": false,
    "jupyter": {
     "outputs_hidden": false
    },
    "outputHidden": false
   },
   "outputs": [
    {
     "name": "stdout",
     "output_type": "stream",
     "text": [
      "inserting Ammon\n",
      "2020-02-27 09:45:23,935 INFO sqlalchemy.engine.base.Engine \n",
      "insert into cities (name, lat, lng, state, country, population)\n",
      "  values(?, ?, ?, ?, ?, ?)\n",
      "\n",
      "2020-02-27 09:45:23,940 INFO sqlalchemy.engine.base.Engine ('Ammon', 43.4748, -111.9559, 'Idaho', 'USA', 15252)\n",
      "2020-02-27 09:45:23,946 INFO sqlalchemy.engine.base.Engine COMMIT\n",
      "inserting Idaho Falls\n",
      "2020-02-27 09:45:23,952 INFO sqlalchemy.engine.base.Engine \n",
      "insert into cities (name, lat, lng, state, country, population)\n",
      "  values(?, ?, ?, ?, ?, ?)\n",
      "\n",
      "2020-02-27 09:45:23,955 INFO sqlalchemy.engine.base.Engine ('Idaho Falls', 43.4878, -112.0359, 'Idaho', 'USA', 96166)\n",
      "2020-02-27 09:45:23,958 INFO sqlalchemy.engine.base.Engine COMMIT\n",
      "inserting Iona\n",
      "2020-02-27 09:45:23,966 INFO sqlalchemy.engine.base.Engine \n",
      "insert into cities (name, lat, lng, state, country, population)\n",
      "  values(?, ?, ?, ?, ?, ?)\n",
      "\n",
      "2020-02-27 09:45:23,969 INFO sqlalchemy.engine.base.Engine ('Iona', 43.5252, -111.931, 'Idaho', 'USA', 2213)\n",
      "2020-02-27 09:45:23,974 INFO sqlalchemy.engine.base.Engine COMMIT\n",
      "inserting Island Park\n",
      "2020-02-27 09:45:23,978 INFO sqlalchemy.engine.base.Engine \n",
      "insert into cities (name, lat, lng, state, country, population)\n",
      "  values(?, ?, ?, ?, ?, ?)\n",
      "\n",
      "2020-02-27 09:45:23,981 INFO sqlalchemy.engine.base.Engine ('Island Park', 44.5251, -111.3581, 'Idaho', 'USA', 272)\n",
      "2020-02-27 09:45:23,989 INFO sqlalchemy.engine.base.Engine COMMIT\n",
      "inserting Ririe\n",
      "2020-02-27 09:45:24,006 INFO sqlalchemy.engine.base.Engine \n",
      "insert into cities (name, lat, lng, state, country, population)\n",
      "  values(?, ?, ?, ?, ?, ?)\n",
      "\n",
      "2020-02-27 09:45:24,011 INFO sqlalchemy.engine.base.Engine ('Ririe', 43.6326, -111.7716, 'Idaho', 'USA', 643)\n",
      "2020-02-27 09:45:24,016 INFO sqlalchemy.engine.base.Engine COMMIT\n",
      "inserting Sugar City\n",
      "2020-02-27 09:45:24,023 INFO sqlalchemy.engine.base.Engine \n",
      "insert into cities (name, lat, lng, state, country, population)\n",
      "  values(?, ?, ?, ?, ?, ?)\n",
      "\n",
      "2020-02-27 09:45:24,031 INFO sqlalchemy.engine.base.Engine ('Sugar City', 43.8757, -111.7518, 'Idaho', 'USA', 1361)\n",
      "2020-02-27 09:45:24,041 INFO sqlalchemy.engine.base.Engine COMMIT\n",
      "inserting Teton\n",
      "2020-02-27 09:45:24,046 INFO sqlalchemy.engine.base.Engine \n",
      "insert into cities (name, lat, lng, state, country, population)\n",
      "  values(?, ?, ?, ?, ?, ?)\n",
      "\n",
      "2020-02-27 09:45:24,052 INFO sqlalchemy.engine.base.Engine ('Teton', 43.8872, -111.6726, 'Idaho', 'USA', 714)\n",
      "2020-02-27 09:45:24,057 INFO sqlalchemy.engine.base.Engine COMMIT\n"
     ]
    }
   ],
   "source": [
    "cities = [\n",
    "    (\"Ammon\", 43.4748, -111.9559, \"Idaho\", \"USA\", 15252),\n",
    "    (\"Idaho Falls\", 43.4878, -112.0359, \"Idaho\", \"USA\", 96166),\n",
    "    (\"Iona\", 43.5252, -111.931, \"Idaho\", \"USA\",\t2213),\n",
    "    (\"Island Park\",\t44.5251, -111.3581, \"Idaho\", \"USA\", 272),\n",
    "    (\"Ririe\", 43.6326, -111.7716,\"Idaho\", \"USA\",643),\n",
    "    (\"Sugar City\", 43.8757,\t-111.7518, \"Idaho\" ,\"USA\", 1361),\n",
    "    (\"Teton\", 43.8872, -111.6726, \"Idaho\", \"USA\", 714),\n",
    "]\n",
    "\n",
    "insert_statement = \"\"\"\n",
    "insert into cities (name, lat, lng, state, country, population)\n",
    "  values(?, ?, ?, ?, ?, ?)\n",
    "\"\"\"\n",
    "\n",
    "for c in cities:\n",
    "    print(f\"inserting {c[0]}\")\n",
    "    # insert into db; note unpacking of tuple (*c)\n",
    "    engine.execute(insert_statement, *c)\n",
    "    "
   ]
  },
  {
   "cell_type": "markdown",
   "metadata": {
    "inputHidden": false,
    "outputHidden": false
   },
   "source": [
    "## Retrieve Selected Rows\n",
    "\n",
    "We can now retrieve a subset of the cities with the SQL `select` statement. Here we use a `where` retrieve cities with a `population` less than `1000`.\n",
    "\n",
    "In the second `select` We also use a `count` function to compute the number cities with a population greater than `1000`."
   ]
  },
  {
   "cell_type": "code",
   "execution_count": 10,
   "metadata": {},
   "outputs": [
    {
     "name": "stdout",
     "output_type": "stream",
     "text": [
      "2020-02-27 09:45:35,039 INFO sqlalchemy.engine.base.Engine SELECT name FROM sqlite_master WHERE type='table' ORDER BY name\n",
      "2020-02-27 09:45:35,043 INFO sqlalchemy.engine.base.Engine ()\n",
      "['cities']\n",
      "2020-02-27 09:45:35,049 INFO sqlalchemy.engine.base.Engine select * from cities where population < 1000\n",
      "2020-02-27 09:45:35,056 INFO sqlalchemy.engine.base.Engine ()\n",
      "{'id': 4, 'name': 'Island Park', 'lat': 44.5251, 'lng': -111.3581, 'state': 'Idaho', 'country': 'USA', 'population': 272}\n",
      "{'id': 5, 'name': 'Ririe', 'lat': 43.6326, 'lng': -111.7716, 'state': 'Idaho', 'country': 'USA', 'population': 643}\n",
      "{'id': 7, 'name': 'Teton', 'lat': 43.8872, 'lng': -111.6726, 'state': 'Idaho', 'country': 'USA', 'population': 714}\n",
      "2020-02-27 09:45:35,066 INFO sqlalchemy.engine.base.Engine select count(name) from cities where population > 10000\n",
      "2020-02-27 09:45:35,071 INFO sqlalchemy.engine.base.Engine ()\n",
      "{'count(name)': 2}\n"
     ]
    }
   ],
   "source": [
    "print(engine.table_names())\n",
    "\n",
    "c = engine.execute('select * from cities where population < 1000')\n",
    "\n",
    "for row in c:\n",
    "    print(dict(row))\n",
    "    \n",
    "cnt = engine.execute('select count(name) from cities where population > 10000')\n",
    "for row in cnt:\n",
    "    print(dict(row))"
   ]
  },
  {
   "cell_type": "markdown",
   "metadata": {
    "inputHidden": false,
    "outputHidden": false
   },
   "source": [
    "## Update Selected Rows\n",
    "\n",
    "In this example we shall change the 'State' from 'Idaho' to 'ID' for all cities with a `population` greater than `10000`. To do this we will utilize a SQL `update` command:\n"
   ]
  },
  {
   "cell_type": "code",
   "execution_count": 11,
   "metadata": {
    "inputHidden": false,
    "jupyter": {
     "outputs_hidden": false
    },
    "outputHidden": false
   },
   "outputs": [
    {
     "name": "stdout",
     "output_type": "stream",
     "text": [
      "2020-02-27 09:45:37,337 INFO sqlalchemy.engine.base.Engine \n",
      "update cities\n",
      "set state = ?\n",
      "where population > ?\n",
      "\n",
      "2020-02-27 09:45:37,341 INFO sqlalchemy.engine.base.Engine ('ID', 10000)\n",
      "2020-02-27 09:45:37,348 INFO sqlalchemy.engine.base.Engine COMMIT\n",
      "2020-02-27 09:45:37,354 INFO sqlalchemy.engine.base.Engine select id, population, state from cities where population > 10000\n",
      "2020-02-27 09:45:37,357 INFO sqlalchemy.engine.base.Engine ()\n",
      "(1, 15252, 'ID')\n",
      "(2, 96166, 'ID')\n"
     ]
    }
   ],
   "source": [
    "update_statement = \"\"\"\n",
    "update cities\n",
    "set state = ?\n",
    "where population > ?\n",
    "\"\"\"\n",
    "\n",
    "engine.execute(update_statement, 'ID', 10000) #state is ID\n",
    "\n",
    "# read updated rows to see that the state attribute was changed\n",
    "cs = engine.execute('select id, population, state from cities where population > 10000')\n",
    "\n",
    "# print out each row\n",
    "for row in cs:\n",
    "    print(row)"
   ]
  },
  {
   "cell_type": "markdown",
   "metadata": {},
   "source": [
    "# Problem Set\n",
    "*50 Points*\n",
    "\n",
    "The above tutorial should have provided you with enough background to get started with the homework, which is to migrate your web app `users` resource to sqlite. The problems below are identical to those from last week except you will be retrieving, creating, and updating a database table instead of using an in-memory list of users.\n",
    "\n",
    "\n",
    "## Setup: Migrate Web Service Users to Sqlite\n",
    "\n",
    "\n",
    "Before proceeding to the problem set, update `api.py` to initialize and connect to the database. Please follow these steps:\n",
    "\n",
    "1. Install [Flask-SQLAlchemy](http://flask-sqlalchemy.pocoo.org/2.3/#), a library that simplifies access to SQLAlchemy from within Flask:\n",
    "    >```bash\n",
    "    conda install Flask-SQLAlchemy\n",
    "    ```\n",
    "1. Import `flask_sqlalchemy` into `api.py`.\n",
    "    >```python\n",
    "    from flask_sqlalchemy import SQLAlchemy  \n",
    "    ```\n",
    "1. Update `flask` startup code by replacing it with this:\n",
    "\n",
    "```python\n",
    "\n",
    "    def init_db():\n",
    "\n",
    "        # create a global variable __db__ that you can use from route handlers\n",
    "        global __db__\n",
    "        \n",
    "        # use in-memory database for debugging\n",
    "        app.config['SQLALCHEMY_DATABASE_URI'] = 'sqlite:///:memory:'\n",
    "\n",
    "        # app.config['SQLALCHEMY_DATABASE_URI'] = 'sqlite:///db.sqlite'\n",
    "\n",
    "        __db__ = SQLAlchemy(app)\n",
    "        engine = __db__.engine\n",
    "\n",
    "        # put your database initialization statements here\n",
    "        # create the users table\n",
    "\n",
    "        # insert each item from USERS list into the users table\n",
    "\n",
    "\n",
    "    if __name__ == 'api':\n",
    "\n",
    "        # save database handle in module-level global\n",
    "        init_db()\n",
    "        app.run(debug=True)\n",
    "\n",
    " ```\n",
    "\n",
    "Note: the above assumes 1) that your code is in a file called `api.py` and 2) that you started the server with `flask run`.\n",
    "\n",
    "If you start the server with `python api.py` then change the `if __name__ == 'api':` test above to `if __name == '__main__:`. Otherwise your initialization code won't run.\n",
    "\n",
    "If you start the server with `flask run` but changed the name of your main file to something else (e.g., `api1.py`) adjust the if test above to reflect the name change.\n",
    "\n"
   ]
  },
  {
   "cell_type": "markdown",
   "metadata": {},
   "source": [
    "## Problem 1: List Users\n",
    "*10 Points*\n",
    "\n",
    "Modify `api.py` to retrieve the collection of users. Essentially, you will convert your existing handler that returns data from the variable `USERS` to read from the database.\n",
    "\n",
    "Run the test below to show that your code is correct.\n",
    "\n"
   ]
  },
  {
   "cell_type": "code",
   "execution_count": 49,
   "metadata": {},
   "outputs": [
    {
     "name": "stderr",
     "output_type": "stream",
     "text": [
      "test_users_get_collection (__main__.Problem1Test) ... ok\n",
      "\n",
      "----------------------------------------------------------------------\n",
      "Ran 1 test in 0.066s\n",
      "\n",
      "OK\n"
     ]
    },
    {
     "data": {
      "text/plain": [
       "<unittest.main.TestProgram at 0x10cb39f40>"
      ]
     },
     "execution_count": 49,
     "metadata": {},
     "output_type": "execute_result"
    }
   ],
   "source": [
    "import unittest\n",
    "import requests\n",
    "import json\n",
    "\n",
    "# The base URL for all HTTP requests\n",
    "BASE = 'http://localhost:5000/users'\n",
    "\n",
    "# set Content-Type to application/json for all HTTP requests\n",
    "headers={'Content-Type': 'application/json'}\n",
    "\n",
    "class Problem1Test(unittest.TestCase):\n",
    "    \n",
    "    # test\n",
    "    def test_users_get_collection(self):\n",
    "        r = requests.get(BASE, headers = headers)\n",
    "        self.assertEqual(r.status_code, 200)\n",
    "        \n",
    "        j = r.json()\n",
    "        self.assertEqual(type(j), list)\n",
    "        self.assertGreater(len(j), 0)\n",
    "        \n",
    "        # extract the first element of the list\n",
    "        first = j[0]\n",
    "\n",
    "        # check all attributes exist\n",
    "        self.assertIn('id', first)\n",
    "        self.assertIn('first', first)\n",
    "        self.assertIn('last', first)\n",
    "        self.assertIn('email', first)\n",
    "\n",
    "    \n",
    "\n",
    "# Run the unit tests          \n",
    "unittest.main(defaultTest=\"Problem1Test\", argv=['ignored', '-v'], exit=False)"
   ]
  },
  {
   "cell_type": "markdown",
   "metadata": {},
   "source": [
    "## Problem 2: Retrieve a Single User\n",
    "*10 Points*\n",
    "\n",
    "Modify the method `GET /users/{id}` to retrieve a specific user by ID to use the database instead of the `USERS` list.\n",
    "\n",
    "This method shall return an HTTP status code of `200` on success and `404` (not found) if the user with the specified ID does not exist. See the unit tests below."
   ]
  },
  {
   "cell_type": "code",
   "execution_count": 60,
   "metadata": {},
   "outputs": [
    {
     "name": "stderr",
     "output_type": "stream",
     "text": [
      "test_users_get_member (__main__.Problem2Test) ... ok\n",
      "test_users_wont_get_nonexistent_member (__main__.Problem2Test) ... "
     ]
    },
    {
     "name": "stdout",
     "output_type": "stream",
     "text": [
      "{'Content-Type': 'application/json', 'Content-Length': '122', 'Server': 'Werkzeug/1.0.0 Python/3.7.3', 'Date': 'Thu, 27 Feb 2020 18:40:47 GMT'}\n"
     ]
    },
    {
     "name": "stderr",
     "output_type": "stream",
     "text": [
      "ok\n",
      "\n",
      "----------------------------------------------------------------------\n",
      "Ran 2 tests in 0.082s\n",
      "\n",
      "OK\n"
     ]
    },
    {
     "data": {
      "text/plain": [
       "<unittest.main.TestProgram at 0x10cb31160>"
      ]
     },
     "execution_count": 60,
     "metadata": {},
     "output_type": "execute_result"
    }
   ],
   "source": [
    "class Problem2Test(unittest.TestCase):\n",
    "    \n",
    "    def test_users_get_member(self):\n",
    "        \n",
    "        r = requests.get(BASE + '/0')\n",
    "        self.assertEqual(r.status_code, 200)\n",
    "        print(r.headers)\n",
    "        j = r.json()\n",
    "        \n",
    "        self.assertIs(type(j), dict)\n",
    "        self.assertEqual(j['id'], 0)\n",
    "        self.assertIn('first', j)\n",
    "        self.assertIn('last', j)\n",
    "        self.assertIn('email', j)\n",
    "        \n",
    "    def test_users_wont_get_nonexistent_member(self):\n",
    "        \n",
    "        r = requests.get(BASE + '/1000')\n",
    "        self.assertEqual(r.status_code, 404)\n",
    "    \n",
    "# Run the unit tests          \n",
    "unittest.main(defaultTest=\"Problem2Test\", argv=['ignored', '-v'], exit=False)"
   ]
  },
  {
   "cell_type": "markdown",
   "metadata": {},
   "source": [
    "## Problem 3: Create a User\n",
    "*10 Points*\n",
    "\n",
    "Modify the `POST /users` method to save the user to the database.\n",
    "\n",
    "All of these parameters are required and your code should enforce this. If validation succeeds, add the new user to the `USERS` list and give it a unique ID. \n",
    "\n",
    "Return HTTP status code `201` (created) if the operation succeeds and `422` (Unprocessable Entity) if validation fails.\n",
    "\n",
    "The created user will be returned as JSON if the operation succeeds.\n",
    "\n"
   ]
  },
  {
   "cell_type": "code",
   "execution_count": 65,
   "metadata": {},
   "outputs": [
    {
     "name": "stderr",
     "output_type": "stream",
     "text": [
      "test_users_create (__main__.Problem3Test) ... ok\n",
      "test_wont_create_user_without_first_name (__main__.Problem3Test) ... ok\n",
      "\n",
      "----------------------------------------------------------------------\n",
      "Ran 2 tests in 0.046s\n",
      "\n",
      "OK\n"
     ]
    },
    {
     "data": {
      "text/plain": [
       "<unittest.main.TestProgram at 0x10cb830a0>"
      ]
     },
     "execution_count": 65,
     "metadata": {},
     "output_type": "execute_result"
    }
   ],
   "source": [
    "class Problem3Test(unittest.TestCase):\n",
    "    \n",
    "    \n",
    "    def test_users_create(self):\n",
    "        data = json.dumps({'first': 'Sammy', 'last': 'Davis', 'email': 'sammy@cuny.edu'})\n",
    "\n",
    "        r = requests.post(BASE, headers = headers, data = data)\n",
    "        self.assertEqual(r.status_code, 201)\n",
    "        \n",
    "    def test_wont_create_user_without_first_name(self):\n",
    "        # simple validation (missing parameters)\n",
    "        data = json.dumps({'last': 'Davis', 'email': 'sammy@cuny.edu'})\n",
    "\n",
    "        r = requests.post(BASE, headers = headers, data = data)\n",
    "        self.assertEqual(r.status_code, 422)\n",
    "        \n",
    "        \n",
    "# Run the unit tests          \n",
    "unittest.main(defaultTest=\"Problem3Test\", argv=['ignored', '-v'], exit=False)"
   ]
  },
  {
   "cell_type": "markdown",
   "metadata": {},
   "source": [
    "## Problem 4: Update a User\n",
    "*10 Points*\n",
    "\n",
    "Change the method that handles user updates (`PATCH/PUT /users/<id>`) so that it writes the update to the database.\n",
    "\n",
    "    "
   ]
  },
  {
   "cell_type": "code",
   "execution_count": 83,
   "metadata": {},
   "outputs": [
    {
     "name": "stderr",
     "output_type": "stream",
     "text": [
      "test_users_update_member (__main__.Problem4Test) ... ok\n",
      "test_users_update_member_not_found (__main__.Problem4Test) ... ok\n",
      "\n",
      "----------------------------------------------------------------------\n",
      "Ran 2 tests in 0.062s\n",
      "\n",
      "OK\n"
     ]
    },
    {
     "data": {
      "text/plain": [
       "<unittest.main.TestProgram at 0x10cc055e0>"
      ]
     },
     "execution_count": 83,
     "metadata": {},
     "output_type": "execute_result"
    }
   ],
   "source": [
    "\n",
    "class Problem4Test(unittest.TestCase):\n",
    "        \n",
    "    def test_users_update_member(self):\n",
    "        data = json.dumps({'first': 'testing'})\n",
    "        r = requests.patch(BASE + '/0', headers = headers, data = data)\n",
    "        self.assertEqual(r.status_code, 200)\n",
    "        \n",
    "        j = r.json()\n",
    "        self.assertIs(type(j), dict)\n",
    "        self.assertEqual(j['id'], 0)\n",
    "        self.assertEqual(j['first'], 'testing')\n",
    "        \n",
    "        # now retrieve the same object to ensure that it was really updated\n",
    "        r = requests.get(BASE + '/0', headers = headers, data = data)\n",
    "        self.assertEqual(r.status_code, 200)\n",
    "        \n",
    "        j = r.json()\n",
    "        self.assertEqual(j['first'], 'testing')\n",
    "        \n",
    "        \n",
    "    def test_users_update_member_not_found(self):\n",
    "        data = json.dumps({'first': 'testing'})\n",
    "        r = requests.patch(BASE + '/1000', headers = headers, data = data)\n",
    "        self.assertEqual(r.status_code, 404)\n",
    "        \n",
    "        \n",
    "\n",
    "# Run the unit tests          \n",
    "unittest.main(defaultTest=\"Problem4Test\", argv=['ignored', '-v'], exit=False)\n",
    "                         "
   ]
  },
  {
   "cell_type": "markdown",
   "metadata": {},
   "source": [
    "## Problem 5: Deactivate a User\n",
    "\n",
    "Modify the handler for \n",
    "`POST /users/<id>/deactivate` so that it persists the deactivation to the database.\n",
    "\n"
   ]
  },
  {
   "cell_type": "code",
   "execution_count": 84,
   "metadata": {},
   "outputs": [
    {
     "name": "stderr",
     "output_type": "stream",
     "text": [
      "test_users_deactivate_member (__main__.Problem5Test) ... ok\n",
      "\n",
      "----------------------------------------------------------------------\n",
      "Ran 1 test in 0.026s\n",
      "\n",
      "OK\n"
     ]
    },
    {
     "data": {
      "text/plain": [
       "<unittest.main.TestProgram at 0x10cbde400>"
      ]
     },
     "execution_count": 84,
     "metadata": {},
     "output_type": "execute_result"
    }
   ],
   "source": [
    "class Problem5Test(unittest.TestCase):\n",
    "        \n",
    "    def test_users_deactivate_member(self):\n",
    "\n",
    "        r = requests.post(BASE + '/0/deactivate', headers = headers)\n",
    "        self.assertEqual(r.status_code, 200)\n",
    "        \n",
    "        j = r.json()\n",
    "        self.assertIs(type(j), dict)\n",
    "        self.assertEqual(j['active'], False)\n",
    "        \n",
    "\n",
    "# Run the unit tests          \n",
    "unittest.main(defaultTest=\"Problem5Test\", argv=['ignored', '-v'], exit=False)\n"
   ]
  },
  {
   "cell_type": "code",
   "execution_count": null,
   "metadata": {},
   "outputs": [],
   "source": [
    "import os\n",
    "from flask import Flask, request, Response, jsonify, abort\n",
    "from functools import wraps\n",
    "from flask_sqlalchemy import SQLAlchemy\n",
    "\n",
    "# dummy users\n",
    "\n",
    "USERS = [\n",
    "    (0, 'Joe','Bloggs',\n",
    "        'joe@bloggs.com', 'student',  True),\n",
    "    (1, 'Ben', 'Bitdiddle',\n",
    "        'ben@cuny.edu', 'student',  True),\n",
    "    (2, 'Alissa P','Hacker',\n",
    "         'missalissa@cuny.edu', 'professor',  True)\n",
    "]\n",
    "'''\n",
    "USERS = {\n",
    "    {'id': 0, 'first': 'Joe', 'last': 'Bloggs',\n",
    "        'email': 'joe@bloggs.com', 'role': 'student', 'active': True},\n",
    "    {'id': 1, 'first': 'Ben', 'last': 'Bitdiddle',\n",
    "        'email': 'ben@cuny.edu', 'role': 'student', 'active': True},\n",
    "    {'id': 2, 'first': 'Alissa P', 'last': 'Hacker',\n",
    "        'email': 'missalissa@cuny.edu', 'role': 'professor', 'active': True},\n",
    "}'''\n",
    "\n",
    "# Custom error handler. Raise this exception\n",
    "# to return a status_code, message, and body\n",
    "class InvalidUsage(Exception):\n",
    "    status_code = 400\n",
    "\n",
    "    def __init__(self, message, status_code=None, payload=None):\n",
    "        Exception.__init__(self)\n",
    "        self.message = message\n",
    "        if status_code is not None:\n",
    "            self.status_code = status_code\n",
    "        self.payload = payload\n",
    "\n",
    "    def to_dict(self):\n",
    "        rv = dict(self.payload or ())\n",
    "        rv['message'] = self.message\n",
    "        return rv\n",
    "\n",
    "\n",
    "print(__name__)\n",
    "\n",
    "app = Flask(__name__)\n",
    "\n",
    "# set the default error handler\n",
    "@app.errorhandler(InvalidUsage)\n",
    "def handle_invalid_usage(error):\n",
    "    response = jsonify(error.to_dict())\n",
    "    response.status_code = error.status_code\n",
    "    return response\n",
    "\n",
    "def init_db():\n",
    "    # create a global variable __db__ that you can use from route handlers\n",
    "    global __db__\n",
    "    \n",
    "    # use in-memory database for debugging\n",
    "    app.config['SQLALCHEMY_DATABASE_URI'] = 'sqlite:///:memory:'\n",
    "    \n",
    "    # app.config['SQLALCHEMY_DATABASE_URI'] = 'sqlite:///db.sqlite'\n",
    "    __db__ = SQLAlchemy(app)\n",
    "    engine = __db__.engine\n",
    "    \n",
    "    # put your database initialization statements here\n",
    "    create_table_stmt = \"\"\"create table MyDataBase(\n",
    "      id integer primary key,\n",
    "      first text not null,\n",
    "      last text not null,\n",
    "      email text not null,\n",
    "      role text ,\n",
    "      active boolean \n",
    "    );\n",
    "    \"\"\"\n",
    "    # create the users table\n",
    "    engine.execute(create_table_stmt)\n",
    "    \n",
    "    # insert each item from USERS list into the users table\n",
    "    \n",
    "    insert_statement = \"\"\"\n",
    "    insert into MyDataBase ('id', 'first', 'last',\n",
    "        'email', 'role', 'active')\n",
    "      values(?, ?, ?, ?, ?, ?)\n",
    "    \"\"\"\n",
    "\n",
    "    for u in USERS:\n",
    "        print(f\"inserting {u}\")\n",
    "        # insert into db; note unpacking of tuple (*u)\n",
    "        engine.execute(insert_statement, *u)\n",
    "\n",
    "\n",
    "if __name__ == 'api':\n",
    "    # save database handle in module-level global\n",
    "    init_db()\n",
    "    app.run(debug=True)\n",
    "\n",
    "\n",
    "# Problem 1\n",
    "@app.route(\"/users\", methods=[\"GET\"])\n",
    "def get_users():\n",
    "    u = __db__.engine.execute('select * from MyDataBase')\n",
    "    users = [dict(user) for user in u]\n",
    "    return jsonify(users)\n",
    "\n",
    "\n",
    "# Problem 2\n",
    "@app.route(\"/users/<int:post_id>\", methods=[\"GET\"])\n",
    "def users_get_member(post_id):\n",
    "    u = __db__.engine.execute(f'select * from MyDataBase WHERE id = {post_id}')\n",
    "    target = u.fetchone()\n",
    "    if target: #Check for whether target is empty if have invalid id.\n",
    "        return jsonify(dict(target))\n",
    "    return Response(None,404)\n",
    "\n",
    "# Your code here...\n",
    "# E.g.,\n",
    "# @app.route(\"/users\", methods=[\"GET\"])\n",
    "\n",
    "# Problem 3\n",
    "@app.route(\"/users\", methods=[\"POST\"])\n",
    "def add_user():\n",
    "    new_user = request.get_json() #input from client to server\n",
    "    myArray = [] #use list-array since each row is a tuple\n",
    "    if 'first' in new_user.keys():\n",
    "        myArray.append(new_user['first'])\n",
    "        myArray.append(new_user['last'])\n",
    "        myArray.append(new_user['email'])\n",
    "        \n",
    "        add_statement = \"\"\"\n",
    "            insert into MyDataBase ('first', 'last', 'email')\n",
    "             values(?, ?, ?)\n",
    "        \"\"\"\n",
    "        \n",
    "        __db__.engine.execute(add_statement,myArray)\n",
    "        \n",
    "        response = Response(None, 201)\n",
    "        return response\n",
    "        \n",
    "    return Response(None, 422)\n",
    "\n",
    "# Problem 4\n",
    "@app.route(\"/users/<int:post_id>\", methods=[\"PUT\",\"PATCH\"])\n",
    "def update_user(post_id):# client provides post_id\n",
    "    \n",
    "    myDict = request.get_json()#returns dictionary\n",
    "\n",
    "#     update_statement = f\"\"\"\n",
    "#        UPDATE MyDataBase \n",
    "#        SET first = {myDict['first']}, last = {myDict['last']}, email = {myDict['email']}, \n",
    "#        role = {myDict['role']}, active = {myDict['active']}\n",
    "#     \"\"\"\n",
    "    update_statement = f\"\"\"\n",
    "       UPDATE MyDataBase \n",
    "       SET first = ?\n",
    "       WHERE id = {post_id}\n",
    "    \"\"\"\n",
    "    engineRP = __db__.engine.execute(update_statement,myDict['first'])#THIS IS THE DISPATCHER TO THE SERVER\n",
    "    u = __db__.engine.execute(f'select * from MyDataBase WHERE id = {post_id}')\n",
    "    target = u.fetchone()\n",
    "    if target: #Check for whether target is empty if have invalid id.\n",
    "        return jsonify(dict(target))\n",
    "    return Response(None,404)\n",
    "\n",
    "    #response = Response(None, 200)\n",
    "    #return jsonify(dict(engineRP.fetchone())) #returns to client\n",
    "# Problem 5\n",
    "\n",
    "@app.route(\"/users/<int:post_id>/deactivate\", methods=[\"POST\"])\n",
    "def deactivate_user(post_id): \n",
    "\n",
    "    update_statement = f\"\"\"\n",
    "       UPDATE MyDataBase \n",
    "       SET active = ?\n",
    "       WHERE id = {post_id}\n",
    "    \"\"\"\n",
    "    engineRP = __db__.engine.execute(update_statement,[False])#THIS IS THE DISPATCHER TO THE SERVER\n",
    "    u = __db__.engine.execute(f'select * from MyDataBase WHERE id = {post_id}')\n",
    "    target = u.fetchone()\n",
    "    if target: #Check for whether target is empty if have invalid id.\n",
    "        return jsonify(dict(target))\n",
    "    return Response(None,404)\n",
    "     \n",
    "    \n",
    "    \n",
    "'''\n",
    "\n",
    "\n",
    "@app.route(\"/users\", methods=[\"GET\"])\n",
    "def get_users():\n",
    "    return jsonify(USERS)\n",
    "\n",
    "    \n",
    "# Problem 2\n",
    "@app.route(\"/users/<int:post_id>\", methods=[\"GET\"])\n",
    "def profile(post_id):\n",
    "    for user in USERS:\n",
    "        if post_id == user['id']:\n",
    "            return jsonify(user)\n",
    "    return Response(None,404)\n",
    "# Problem 3\n",
    "@app.route(\"/users\", methods=[\"POST\"])\n",
    "def add_user():\n",
    "    new_user = request.get_json()\n",
    "    myDict = {}\n",
    "    if 'first' in new_user.keys():\n",
    "        myDict['first'] = new_user['first']\n",
    "        myDict['last'] = new_user['last']\n",
    "        myDict['email'] = new_user['email']\n",
    "        \n",
    "        #user role true\n",
    "        #myDict['role'] = new_user['role']\n",
    "        #myDict['status'] = new_user['status']\n",
    "        \n",
    "        #new user TRUE\n",
    "        myDict['id'] = len(USERS)      \n",
    "        \n",
    "        #response\n",
    "        USERS.append(myDict)\n",
    "        response = Response(None, 201)\n",
    "        \n",
    "        return response\n",
    "        \n",
    "    else:\n",
    "        response = Response(None, 422)\n",
    "        return response\n",
    "    \n",
    "# Problem 4\n",
    "@app.route(\"/users/<int:post_id>\", methods=[\"PUT\",\"PATCH\"])\n",
    "def update_user(post_id):  \n",
    "    for dictionary in USERS:      \n",
    "        if post_id == dictionary['id']:\n",
    "            user = request.get_json()\n",
    "            dictionary['first'] = user['first']\n",
    "            response = Response(None, 200)\n",
    "            return jsonify(dictionary)\n",
    "        \n",
    "    response = Response(None, 404)\n",
    "    return response\n",
    "    \n",
    "# Problem 5\n",
    "\n",
    "@app.route(\"/users/<int:post_id>/deactivate\", methods=[\"POST\"])\n",
    "def deactivate_user(post_id): \n",
    "    for dictionary in USERS:    \n",
    "        if post_id == dictionary['id']:\n",
    "            dictionary['active']=False\n",
    "            response = Response(None, 200)\n",
    "            return jsonify(dictionary)\n",
    "    response = Response(None, 404)\n",
    "    return response\n",
    "'''"
   ]
  }
 ],
 "metadata": {
  "kernel_info": {
   "name": "python3"
  },
  "kernelspec": {
   "display_name": "Python [conda env:ipk3]",
   "language": "python",
   "name": "conda-env-ipk3-py"
  },
  "language_info": {
   "codemirror_mode": {
    "name": "ipython",
    "version": 3
   },
   "file_extension": ".py",
   "mimetype": "text/x-python",
   "name": "python",
   "nbconvert_exporter": "python",
   "pygments_lexer": "ipython3",
   "version": "3.8.0"
  },
  "nteract": {
   "version": "0.12.3"
  }
 },
 "nbformat": 4,
 "nbformat_minor": 4
}
