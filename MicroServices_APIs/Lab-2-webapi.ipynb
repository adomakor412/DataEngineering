{
 "cells": [
  {
   "cell_type": "markdown",
   "metadata": {
    "inputHidden": false,
    "outputHidden": false
   },
   "source": [
    "# Web Services with Flask\n",
    "*Due Thursday, February 26, 2020, 5 PM*\n",
    "\n",
    "    \n",
    "In this Lab we explore the construction of a web service with [Flask](http://flask.pocoo.org), a microframework for Python. We chose Flask because it's a prominent framework for Python, it's simple, and it's emblematic of frameworks for in other languages. \n",
    "\n",
    "Learn Flask and you'll find NodeJS (Javascript), Rails or Sinatra (Ruby), or Beego (Golang) immediately familiar. That's because the concepts behind all web frameworks are essentially the same, although details vary. \n",
    "\n",
    "## A Todo List App\n",
    "\n",
    "In this lab, we'll create the backend of a very simple app: a todo manager. \n",
    "\n",
    "The app will consist of the following entities:\n",
    "\n",
    "* `users`\n",
    "* `tasks`\n",
    "\n",
    "This app lets individual users manage their tasks. That is, users will log in to the app and be able to list their tasks, create or delete tasks, and edit tasks or update the status of their tasks. Users will only be able to see their own tasks, not of other users.\n",
    "\n",
    "## Concepts and Plan\n",
    "\n",
    "The accompanying lecture covers the main concepts: web services, their relevance to data science, HTTP, REST APIs, routing, and so on. We'll assume you are familiar with the basics already.\n",
    "\n",
    "The plan with the todo app is to work incrementally: to begin on the outside and proceed inward. Here 'outside' is the API. We'll begin by 'stubbing' out one. That is, we'll create one resource (users) and define the operations we might want to perform on these users. Over the next couple of weeks we'll add tasks and create a persistence layer with a database. By the time you are done, you will have a complete app that can be deployed to the cloud and accessed from command-line clients, and web, mobile or desktop apps."
   ]
  },
  {
   "cell_type": "markdown",
   "metadata": {
    "inputHidden": false,
    "outputHidden": false
   },
   "source": [
    "## Users\n",
    "\n",
    "\n",
    "We'll track the following information about `users`:\n",
    "\n",
    "```json\n",
    "{\n",
    "    id: 'unique ID',\n",
    "    first_name: 'first name',\n",
    "    last_name: 'last name',\n",
    "    email: 'email address',\n",
    "}\n",
    "```\n",
    "\n",
    "* GET `/users`: list all users\n",
    "* GET `/users/{:id}`: retrieve a user detail by ID\n",
    "* POST `/users`: create a user\n",
    "* PATCH `/users/{:id}`: update a user indexed by ID\n",
    "* DELETE:\n",
    "\n",
    "## Tasks\n",
    "\n",
    "This resource manages courses. It will have the following attributes:\n",
    "\n",
    "```json\n",
    "{\n",
    "    id: 'unique ID of this task',\n",
    "    user_id: 'id of user who owns this task'\n",
    "    name: 'task name',\n",
    "    status: 'done or not',\n",
    "}\n",
    "```\n",
    "\n",
    "* GET `/tasks?user_id`: list all tasks for this user\n",
    "* GET `/tasks/{:id}/?user_id={:user_id}: retrieve a task by `id` for a given `user_id`\n",
    "* POST `/tasks`: create a task. Details of the course (`name`, `user_id`, `status`, etc) will be passed as a JSON object in the POST body)\n",
    "\n"
   ]
  },
  {
   "cell_type": "markdown",
   "metadata": {
    "inputHidden": false,
    "outputHidden": false
   },
   "source": [
    "# Lab/Homework: A Flask API for a User Resource\n",
    "\n",
    "For this lab, we'll have to leave the confines of the Jupyter notebook to run the app server. The API will be implemented with the Flask framework. Source code for a skeleton starter project is [here](https://www.dropbox.com/s/qnaw0hh73huqk3z/tasks-api-stub.zip?dl=0). Download and unzip the file. This will create a folder called `tasks-api-server`.\n",
    "\n",
    "`cd` into the folder and start up flask like so:\n",
    "\n",
    "> ```bash\n",
    "$ export FLASK_APP=api.py\n",
    "$ export FLASK_ENV=development\n",
    "$ flask run\n",
    "```\n",
    "\n",
    "\n",
    "By default this will start the server on port `5000`.\n",
    "\n",
    "You can try accessing the server by navigating to `http://localhost:5000/users` on your browser.\n",
    "\n",
    "I have taken the liberty of stubbing out the operations to list, create, read, and update `users` in. Your job in this exercise is understand the structure of a flask app and fill in the implementation of each stubbed operation. Note that in this iteration of the app, the `user` resource isn't persisted yet. Instead, you will store updates to `users` in a Python array. This means that all changes will be lost whenever the server is taken down. We'll be extending this app with a database layer in the coming weeks.\n",
    "\n",
    "To simplify your task, I've also created a set of unit tests below to ensure that your API adheres to some basic requirements. Study the the unit test code closely. It shows basic usage of `requests`, a Python library for HTTP clients. I highly recommend your looking at the documentation [here](http://docs.python-requests.org/en/master/).\n",
    "\n",
    "## Imports\n",
    "\n"
   ]
  },
  {
   "cell_type": "code",
   "execution_count": 1,
   "metadata": {
    "inputHidden": false,
    "jupyter": {
     "outputs_hidden": false
    },
    "outputHidden": false
   },
   "outputs": [],
   "source": [
    "import unittest\n",
    "import requests\n",
    "import json\n",
    "\n",
    "# The base URL for all HTTP requests\n",
    "BASE = 'http://localhost:5000/users'\n",
    "\n",
    "# set Content-Type to application/json for all HTTP requests\n",
    "headers={'Content-Type': 'application/json'}"
   ]
  },
  {
   "cell_type": "markdown",
   "metadata": {
    "inputHidden": false,
    "outputHidden": false
   },
   "source": [
    "## Problem Set\n",
    "*60 Points Total*\n",
    "\n",
    "You'll be implementing the following operations on a `/users` resource:\n",
    "\n",
    "| METHOD                       | Description                   |\n",
    "| ---------------------------- | ----------------------------- |\n",
    "| `GET /users`                 | List all users                |\n",
    "| `POST /users`                | Create a User                 |\n",
    "| `GET /users/:id`             | Retrieve a user by `id`       |\n",
    "| `PUT/PATCH /users/:id`       | Update a user with given `id` |\n",
    "| `POST /users/:id/deactivate` | Deactivate a user             |\n",
    "\n",
    "Note that we won't support `DELETE` on this resource. We'll want to prevent users from being deleted. This is because they are typically retained for historical purposes. For this reason, you implement a `/deactivate` operation instead.\n",
    "\n",
    "## Problem 1: List Users\n",
    "*10 Points*\n",
    "\n",
    "Modify `api.py` to retrieve the collection of users. Essentially, you will return the contents of the `USERS` as JSON. See the documentaton of [`jsonify`](http://flask.pocoo.org/docs/1.0/api/) for details on how to convert a Python object to JSON.\n",
    "\n",
    "Run the test below to show that your code is correct.\n"
   ]
  },
  {
   "cell_type": "code",
   "execution_count": 2,
   "metadata": {
    "inputHidden": false,
    "jupyter": {
     "outputs_hidden": false
    },
    "outputHidden": false
   },
   "outputs": [
    {
     "name": "stderr",
     "output_type": "stream",
     "text": [
      "test_users_get_collection (__main__.Problem1Test) ... ok\n",
      "\n",
      "----------------------------------------------------------------------\n",
      "Ran 1 test in 0.052s\n",
      "\n",
      "OK\n"
     ]
    },
    {
     "data": {
      "text/plain": [
       "<unittest.main.TestProgram at 0x1079a8ee0>"
      ]
     },
     "execution_count": 2,
     "metadata": {},
     "output_type": "execute_result"
    }
   ],
   "source": [
    "\n",
    "class Problem1Test(unittest.TestCase):\n",
    "    \n",
    "    # test\n",
    "    def test_users_get_collection(self):\n",
    "        r = requests.get(BASE, headers = headers)\n",
    "        self.assertEqual(r.status_code, 200)\n",
    "        \n",
    "        j = r.json()\n",
    "        self.assertEqual(type(j), list)\n",
    "        self.assertGreater(len(j), 0)\n",
    "        \n",
    "        # extract the first element of the list\n",
    "        first = j[0]\n",
    "\n",
    "        # check all attributes exist\n",
    "        self.assertIn('id', first)\n",
    "        self.assertIn('first', first)\n",
    "        self.assertIn('last', first)\n",
    "        self.assertIn('email', first)\n",
    "\n",
    "    \n",
    "\n",
    "# Run the unit tests          \n",
    "unittest.main(defaultTest=\"Problem1Test\", argv=['ignored', '-v'], exit=False)\n",
    "                         "
   ]
  },
  {
   "cell_type": "markdown",
   "metadata": {
    "inputHidden": false,
    "outputHidden": false
   },
   "source": [
    "## Problem 2: Retrieve a Single User\n",
    "*10 Points*\n",
    "\n",
    "Add a method to retrieve a single user by ID. That is create a function that will route to\n",
    "\n",
    ">```bash\n",
    "GET /users/<id>\n",
    "```\n",
    "    \n",
    "See the Flask documentation for [Routing](http://flask.pocoo.org/docs/1.0/quickstart/#routing) for details on how to bind a parameter to function argument.\n",
    "\n",
    "This method shall return an HTTP status code of `200` on success and `404` (not found) if the user with the specified ID does not exist. See the unit tests below."
   ]
  },
  {
   "cell_type": "code",
   "execution_count": 27,
   "metadata": {
    "inputHidden": false,
    "jupyter": {
     "outputs_hidden": false
    },
    "outputHidden": false
   },
   "outputs": [
    {
     "name": "stderr",
     "output_type": "stream",
     "text": [
      "test_users_get_member (__main__.Problem2Test) ... ok\n",
      "test_users_wont_get_nonexistent_member (__main__.Problem2Test) ... "
     ]
    },
    {
     "name": "stdout",
     "output_type": "stream",
     "text": [
      "{'Content-Type': 'application/json', 'Content-Length': '125', 'Server': 'Werkzeug/0.15.4 Python/3.7.0', 'Date': 'Fri, 21 Feb 2020 00:43:44 GMT'}\n"
     ]
    },
    {
     "name": "stderr",
     "output_type": "stream",
     "text": [
      "ok\n",
      "\n",
      "----------------------------------------------------------------------\n",
      "Ran 2 tests in 0.053s\n",
      "\n",
      "OK\n"
     ]
    },
    {
     "data": {
      "text/plain": [
       "<unittest.main.TestProgram at 0x107ada700>"
      ]
     },
     "execution_count": 27,
     "metadata": {},
     "output_type": "execute_result"
    }
   ],
   "source": [
    "\n",
    "class Problem2Test(unittest.TestCase):\n",
    "    \n",
    "    def test_users_get_member(self):\n",
    "        \n",
    "        r = requests.get(BASE + '/0')\n",
    "        self.assertEqual(r.status_code, 200)\n",
    "        print(r.headers)\n",
    "        j = r.json()\n",
    "        \n",
    "        self.assertIs(type(j), dict)\n",
    "        self.assertEqual(j['id'], 0)\n",
    "        self.assertIn('first', j)\n",
    "        self.assertIn('last', j)\n",
    "        self.assertIn('email', j)\n",
    "        \n",
    "    def test_users_wont_get_nonexistent_member(self):\n",
    "        \n",
    "        r = requests.get(BASE + '/1000')\n",
    "        self.assertEqual(r.status_code, 404)\n",
    "    \n",
    "# Run the unit tests          \n",
    "unittest.main(defaultTest=\"Problem2Test\", argv=['ignored', '-v'], exit=False)\n",
    "                         "
   ]
  },
  {
   "cell_type": "markdown",
   "metadata": {
    "inputHidden": false,
    "outputHidden": false
   },
   "source": [
    "## Problem 3: Create a User\n",
    "*10 Points*\n",
    "\n",
    "Create a user with the following route:\n",
    "\n",
    ">```bash\n",
    "POST /users\n",
    "```\n",
    "\n",
    "The object to be created will be passed as JSON in the HTTP body. The unit test below shows how. It will be of the form:\n",
    "\n",
    ">```json\n",
    "{\n",
    "    'first': 'first name',\n",
    "    'last': 'last name',\n",
    "    'email': 'email address',\n",
    "}\n",
    "```\n",
    "\n",
    "Use `request.get_json()` to extract the body as JSON from the HTTP request.\n",
    "\n",
    "All of these parameters are required and your code should enforce this. If validation succeeds, add the new user to the `USERS` list and give it a unique ID. \n",
    "\n",
    "Return HTTP status code `201` (created) if the operation succeeds and `422` (Unprocessable Entity) if validation fails.\n",
    "\n",
    "The created user will be returned as JSON if the operation succeeds.\n",
    "\n",
    "Future versions of your app will enforce validation constraints more rigorously."
   ]
  },
  {
   "cell_type": "code",
   "execution_count": 30,
   "metadata": {
    "inputHidden": false,
    "jupyter": {
     "outputs_hidden": false
    },
    "outputHidden": false
   },
   "outputs": [
    {
     "name": "stderr",
     "output_type": "stream",
     "text": [
      "test_users_create (__main__.Problem3Test) ... ok\n",
      "test_wont_create_user_without_first_name (__main__.Problem3Test) ... ok\n",
      "\n",
      "----------------------------------------------------------------------\n",
      "Ran 2 tests in 0.032s\n",
      "\n",
      "OK\n"
     ]
    },
    {
     "data": {
      "text/plain": [
       "<unittest.main.TestProgram at 0x107ada490>"
      ]
     },
     "execution_count": 30,
     "metadata": {},
     "output_type": "execute_result"
    }
   ],
   "source": [
    "class Problem3Test(unittest.TestCase):\n",
    "    \n",
    "    \n",
    "    def test_users_create(self):\n",
    "        data = json.dumps({'first': 'Sammy', 'last': 'Davis', 'email': 'sammy@cuny.edu'})\n",
    "\n",
    "        r = requests.post(BASE, headers = headers, data = data)\n",
    "        self.assertEqual(r.status_code, 201)\n",
    "        \n",
    "    def test_wont_create_user_without_first_name(self):\n",
    "        # simple validation (missing parameters)\n",
    "        data = json.dumps({'last': 'Davis', 'email': 'sammy@cuny.edu'})\n",
    "\n",
    "        r = requests.post(BASE, headers = headers, data = data)\n",
    "        self.assertEqual(r.status_code, 422)\n",
    "        \n",
    "        \n",
    "# Run the unit tests          \n",
    "unittest.main(defaultTest=\"Problem3Test\", argv=['ignored', '-v'], exit=False)\n",
    "                         "
   ]
  },
  {
   "cell_type": "markdown",
   "metadata": {
    "inputHidden": false,
    "outputHidden": false
   },
   "source": [
    "## Problem 4: Update a User\n",
    "*10 Points*\n",
    "\n",
    "Update a user with the following route:\n",
    "\n",
    ">```bash\n",
    "PATCH/PUT /users/<id>\n",
    "```\n",
    "    \n",
    "The parameters will be passed in the HTTP body and will be an object with a subset of the user attributes.\n",
    "    \n",
    "Return status code `200` on success, `404` if the user was not found, and `422` if another error occurred."
   ]
  },
  {
   "cell_type": "code",
   "execution_count": null,
   "metadata": {
    "inputHidden": false,
    "jupyter": {
     "outputs_hidden": false
    },
    "outputHidden": false
   },
   "outputs": [],
   "source": [
    "\n",
    "class Problem4Test(unittest.TestCase):\n",
    "        \n",
    "    def test_users_update_member(self):\n",
    "        data = json.dumps({'first': 'testing'})\n",
    "        r = requests.patch(BASE + '/0', headers = headers, data = data)\n",
    "        self.assertEqual(r.status_code, 200)\n",
    "        \n",
    "        j = r.json()\n",
    "        self.assertIs(type(j), dict)\n",
    "        self.assertEqual(j['id'], 0)\n",
    "        self.assertEqual(j['first'], 'testing')\n",
    "        \n",
    "        # now retrieve the same object to ensure that it was really updated\n",
    "        r = requests.get(BASE + '/0', headers = headers, data = data)\n",
    "        self.assertEqual(r.status_code, 200)\n",
    "        \n",
    "        j = r.json()\n",
    "        self.assertEqual(j['first'], 'testing')\n",
    "        \n",
    "        \n",
    "    def test_users_update_member_not_found(self):\n",
    "        data = json.dumps({'first': 'testing'})\n",
    "        r = requests.patch(BASE + '/1000', headers = headers, data = data)\n",
    "        self.assertEqual(r.status_code, 404)\n",
    "        \n",
    "        \n",
    "\n",
    "# Run the unit tests          \n",
    "unittest.main(defaultTest=\"Problem4Test\", argv=['ignored', '-v'], exit=False)\n",
    "                         "
   ]
  },
  {
   "cell_type": "markdown",
   "metadata": {
    "inputHidden": false,
    "outputHidden": false
   },
   "source": [
    "## Problem 5: Deactivate a User\n",
    "\n",
    "Deactivate a user with the route\n",
    "\n",
    ">```bash\n",
    "POST /users/<id>/deactivate\n",
    "```\n",
    "    \n",
    "This method will essentially toggle the `active` attribute for the user. Return `200` on success.\n",
    "    \n",
    "This problem shows how to implement non-REST commands."
   ]
  },
  {
   "cell_type": "code",
   "execution_count": null,
   "metadata": {
    "inputHidden": false,
    "jupyter": {
     "outputs_hidden": false
    },
    "outputHidden": false
   },
   "outputs": [],
   "source": [
    "class Problem5Test(unittest.TestCase):\n",
    "        \n",
    "    def test_users_deactivate_member(self):\n",
    "\n",
    "        r = requests.post(BASE + '/0/deactivate', headers = headers)\n",
    "        self.assertEqual(r.status_code, 200)\n",
    "        \n",
    "        j = r.json()\n",
    "        self.assertIs(type(j), dict)\n",
    "        self.assertEqual(j['active'], False)\n",
    "        \n",
    "\n",
    "# Run the unit tests          \n",
    "unittest.main(defaultTest=\"Problem5Test\", argv=['ignored', '-v'], exit=False)\n"
   ]
  },
  {
   "cell_type": "markdown",
   "metadata": {
    "inputHidden": false,
    "outputHidden": false
   },
   "source": []
  },
  {
   "cell_type": "code",
   "execution_count": null,
   "metadata": {
    "inputHidden": false,
    "jupyter": {
     "outputs_hidden": false
    },
    "outputHidden": false
   },
   "outputs": [],
   "source": []
  }
 ],
 "metadata": {
  "kernel_info": {
   "name": "python3"
  },
  "kernelspec": {
   "display_name": "Python 3",
   "language": "python",
   "name": "python3"
  },
  "language_info": {
   "codemirror_mode": {
    "name": "ipython",
    "version": 3
   },
   "file_extension": ".py",
   "mimetype": "text/x-python",
   "name": "python",
   "nbconvert_exporter": "python",
   "pygments_lexer": "ipython3",
   "version": "3.8.0"
  },
  "nteract": {
   "version": "0.21.0"
  }
 },
 "nbformat": 4,
 "nbformat_minor": 4
}
